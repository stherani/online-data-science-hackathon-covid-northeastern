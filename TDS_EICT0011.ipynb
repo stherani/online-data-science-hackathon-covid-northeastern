{
  "metadata": {
    "kernelspec": {
      "language": "python",
      "display_name": "Python 3",
      "name": "python3"
    },
    "language_info": {
      "name": "python",
      "version": "3.7.12",
      "mimetype": "text/x-python",
      "codemirror_mode": {
        "name": "ipython",
        "version": 3
      },
      "pygments_lexer": "ipython3",
      "nbconvert_exporter": "python",
      "file_extension": ".py"
    },
    "colab": {
      "name": "TDS_EICT0011.ipynb",
      "provenance": []
    }
  },
  "nbformat_minor": 0,
  "nbformat": 4,
  "cells": [
    {
      "cell_type": "markdown",
      "source": [
        "**Understanding the problem statement:**\n",
        "\n",
        "Based on the past weather data, create a model which takes the current weather information and predict the daily summary"
      ],
      "metadata": {
        "id": "NdjYNPGZ5ndO"
      }
    },
    {
      "cell_type": "markdown",
      "source": [
        ""
      ],
      "metadata": {
        "id": "Yul8NPZ87PjG"
      }
    },
    {
      "cell_type": "markdown",
      "source": [
        "**Understanding the Dataset:**\n",
        "\n",
        "#"
      ],
      "metadata": {
        "id": "OqU5BLoK5ndQ"
      }
    },
    {
      "cell_type": "markdown",
      "source": [
        "**More about the labels:**\n",
        "\n",
        "> There are 207 unique labels in training dataset\n",
        "\n",
        "> There are 32 unique labels in test dataset\n",
        "\n",
        "> Out of those two datasets 7 labels from test hasn't occured in training dataset\n",
        "\n",
        "> 75% of labels have count below 168 and 64 for train and test dataset\n",
        "\n",
        ">"
      ],
      "metadata": {
        "id": "RQTFjE385ndQ"
      }
    },
    {
      "cell_type": "markdown",
      "source": [
        "Drizzle until morning. 24\n",
        "\n",
        "Rain until afternoon. 24\n",
        "\n",
        "Light rain overnight. 24\n",
        "\n",
        "Light rain starting overnight. 24\n",
        "\n",
        "Rain until morning. 24\n",
        "\n",
        "Rain throughout the day. 24\n",
        "\n",
        "Drizzle starting in the evening. 24"
      ],
      "metadata": {
        "id": "Mf6OiL3a5ndR"
      }
    },
    {
      "cell_type": "code",
      "source": [
        "!pip -q install ../input/sklearn-0-24-2/scikit_learn-0.24.2-cp37-cp37m-manylinux1_x86_64.whl"
      ],
      "metadata": {
        "execution": {
          "iopub.status.busy": "2022-02-13T08:51:27.613773Z",
          "iopub.execute_input": "2022-02-13T08:51:27.614110Z",
          "iopub.status.idle": "2022-02-13T08:51:40.658287Z",
          "shell.execute_reply.started": "2022-02-13T08:51:27.614022Z",
          "shell.execute_reply": "2022-02-13T08:51:40.657286Z"
        },
        "trusted": true,
        "id": "EwgXcrST5ndS"
      },
      "execution_count": null,
      "outputs": []
    },
    {
      "cell_type": "code",
      "source": [
        "import numpy as np # linear algebra\n",
        "import pandas as pd # data processing, CSV file I/O (e.g. pd.read_csv)\n",
        "import os\n",
        "from matplotlib import pyplot as plt"
      ],
      "metadata": {
        "_uuid": "8f2839f25d086af736a60e9eeb907d3b93b6e0e5",
        "_cell_guid": "b1076dfc-b9ad-4769-8c92-a6c4dae69d19",
        "execution": {
          "iopub.status.busy": "2022-02-13T08:51:40.660567Z",
          "iopub.execute_input": "2022-02-13T08:51:40.660835Z",
          "iopub.status.idle": "2022-02-13T08:51:40.665665Z",
          "shell.execute_reply.started": "2022-02-13T08:51:40.660803Z",
          "shell.execute_reply": "2022-02-13T08:51:40.664657Z"
        },
        "trusted": true,
        "id": "H3b0s4vP5ndT"
      },
      "execution_count": null,
      "outputs": []
    },
    {
      "cell_type": "code",
      "source": [
        "weather=pd.read_csv('../input/iitkanpur/train.csv')\n",
        "weather.head()"
      ],
      "metadata": {
        "execution": {
          "iopub.status.busy": "2022-02-13T08:51:40.666770Z",
          "iopub.execute_input": "2022-02-13T08:51:40.667067Z",
          "iopub.status.idle": "2022-02-13T08:51:41.082091Z",
          "shell.execute_reply.started": "2022-02-13T08:51:40.667040Z",
          "shell.execute_reply": "2022-02-13T08:51:41.081204Z"
        },
        "trusted": true,
        "id": "MClkuEc95ndT"
      },
      "execution_count": null,
      "outputs": []
    },
    {
      "cell_type": "code",
      "source": [
        "weather.shape"
      ],
      "metadata": {
        "execution": {
          "iopub.status.busy": "2022-02-13T08:51:41.085756Z",
          "iopub.execute_input": "2022-02-13T08:51:41.086516Z",
          "iopub.status.idle": "2022-02-13T08:51:41.091568Z",
          "shell.execute_reply.started": "2022-02-13T08:51:41.086477Z",
          "shell.execute_reply": "2022-02-13T08:51:41.090845Z"
        },
        "trusted": true,
        "id": "oH9iVV-Y5ndU"
      },
      "execution_count": null,
      "outputs": []
    },
    {
      "cell_type": "code",
      "source": [
        "weather.info()"
      ],
      "metadata": {
        "execution": {
          "iopub.status.busy": "2022-02-13T08:51:41.092741Z",
          "iopub.execute_input": "2022-02-13T08:51:41.092945Z",
          "iopub.status.idle": "2022-02-13T08:51:41.139838Z",
          "shell.execute_reply.started": "2022-02-13T08:51:41.092921Z",
          "shell.execute_reply": "2022-02-13T08:51:41.138836Z"
        },
        "trusted": true,
        "id": "WrE98-sN5ndW"
      },
      "execution_count": null,
      "outputs": []
    },
    {
      "cell_type": "code",
      "source": [
        "fig, (ax1, ax2,ax3) = plt.subplots(1,3, figsize=(20,6))\n",
        "\n",
        "weather['Summary'].value_counts().plot(kind='bar', facecolor='y',ax=ax1,title='Summary Plot')\n",
        "weather['Precip Type'].value_counts().plot(kind='bar', facecolor='y',ax=ax2,title='PrecipType Plot')\n",
        "weather['Cloud Cover'].value_counts().plot(kind='bar', facecolor='y',ax=ax3,title='CloudCover Plot')\n",
        "plt.show()"
      ],
      "metadata": {
        "execution": {
          "iopub.status.busy": "2022-02-13T08:51:41.141254Z",
          "iopub.execute_input": "2022-02-13T08:51:41.142177Z",
          "iopub.status.idle": "2022-02-13T08:51:41.798974Z",
          "shell.execute_reply.started": "2022-02-13T08:51:41.142139Z",
          "shell.execute_reply": "2022-02-13T08:51:41.798448Z"
        },
        "trusted": true,
        "id": "JqDPSbPO5ndW"
      },
      "execution_count": null,
      "outputs": []
    },
    {
      "cell_type": "code",
      "source": [
        "weather['Daily Summary'].value_counts()"
      ],
      "metadata": {
        "execution": {
          "iopub.status.busy": "2022-02-13T08:51:41.799955Z",
          "iopub.execute_input": "2022-02-13T08:51:41.800269Z",
          "iopub.status.idle": "2022-02-13T08:51:41.812193Z",
          "shell.execute_reply.started": "2022-02-13T08:51:41.800243Z",
          "shell.execute_reply": "2022-02-13T08:51:41.811399Z"
        },
        "trusted": true,
        "id": "oFOZeR375ndY"
      },
      "execution_count": null,
      "outputs": []
    },
    {
      "cell_type": "code",
      "source": [
        "weather.describe()"
      ],
      "metadata": {
        "execution": {
          "iopub.status.busy": "2022-02-13T08:51:41.813534Z",
          "iopub.execute_input": "2022-02-13T08:51:41.813995Z",
          "iopub.status.idle": "2022-02-13T08:51:41.871262Z",
          "shell.execute_reply.started": "2022-02-13T08:51:41.813952Z",
          "shell.execute_reply": "2022-02-13T08:51:41.870405Z"
        },
        "trusted": true,
        "id": "BZHzHxlC5ndZ"
      },
      "execution_count": null,
      "outputs": []
    },
    {
      "cell_type": "code",
      "source": [
        "%matplotlib inline\n",
        "import matplotlib.pyplot as plt\n",
        "\n",
        "weather.hist(bins=50, figsize=(20,15))\n",
        "#save_fig(\"attribute_histogram_plots\")\n",
        "plt.show()"
      ],
      "metadata": {
        "execution": {
          "iopub.status.busy": "2022-02-13T08:51:41.872305Z",
          "iopub.execute_input": "2022-02-13T08:51:41.872511Z",
          "iopub.status.idle": "2022-02-13T08:51:43.552065Z",
          "shell.execute_reply.started": "2022-02-13T08:51:41.872486Z",
          "shell.execute_reply": "2022-02-13T08:51:43.551146Z"
        },
        "trusted": true,
        "id": "toCnECUY5ndZ"
      },
      "execution_count": null,
      "outputs": []
    },
    {
      "cell_type": "code",
      "source": [
        "from sklearn.preprocessing import OrdinalEncoder\n",
        "oe = OrdinalEncoder(handle_unknown='use_encoded_value',unknown_value=-1)\n",
        "oe.fit(np.array(weather['Daily Summary']).reshape(-1,1))"
      ],
      "metadata": {
        "execution": {
          "iopub.status.busy": "2022-02-13T08:52:40.937111Z",
          "iopub.execute_input": "2022-02-13T08:52:40.937907Z",
          "iopub.status.idle": "2022-02-13T08:52:40.948805Z",
          "shell.execute_reply.started": "2022-02-13T08:52:40.937868Z",
          "shell.execute_reply": "2022-02-13T08:52:40.948032Z"
        },
        "trusted": true,
        "id": "vMe6J29W5ndZ"
      },
      "execution_count": null,
      "outputs": []
    },
    {
      "cell_type": "code",
      "source": [
        "weather['Daily Encoded']=oe.transform(np.array(weather['Daily Summary']).reshape(-1,1))\n",
        "oe.categories_[0][:10]"
      ],
      "metadata": {
        "execution": {
          "iopub.status.busy": "2022-02-13T08:52:47.032315Z",
          "iopub.execute_input": "2022-02-13T08:52:47.032584Z",
          "iopub.status.idle": "2022-02-13T08:52:47.065636Z",
          "shell.execute_reply.started": "2022-02-13T08:52:47.032556Z",
          "shell.execute_reply": "2022-02-13T08:52:47.064788Z"
        },
        "trusted": true,
        "id": "6sUuBxkl5nda"
      },
      "execution_count": null,
      "outputs": []
    },
    {
      "cell_type": "code",
      "source": [
        "corr_matrix=weather.corr()\n",
        "corr_matrix['Daily Encoded'].sort_values(ascending=False)"
      ],
      "metadata": {
        "execution": {
          "iopub.status.busy": "2022-02-13T08:52:47.067261Z",
          "iopub.execute_input": "2022-02-13T08:52:47.067595Z",
          "iopub.status.idle": "2022-02-13T08:52:47.114203Z",
          "shell.execute_reply.started": "2022-02-13T08:52:47.067562Z",
          "shell.execute_reply": "2022-02-13T08:52:47.113401Z"
        },
        "trusted": true,
        "id": "sjXZIAUV5nda"
      },
      "execution_count": null,
      "outputs": []
    },
    {
      "cell_type": "code",
      "source": [
        "import seaborn as sns\n",
        "\n",
        "%matplotlib inline\n",
        "plt.figure(figsize=(10,5))\n",
        "sns.heatmap(weather.isnull(),yticklabels=False,cbar=False)\n",
        "\n",
        "plt.show()"
      ],
      "metadata": {
        "execution": {
          "iopub.status.busy": "2022-02-13T08:52:47.115418Z",
          "iopub.execute_input": "2022-02-13T08:52:47.115657Z",
          "iopub.status.idle": "2022-02-13T08:52:48.542628Z",
          "shell.execute_reply.started": "2022-02-13T08:52:47.115631Z",
          "shell.execute_reply": "2022-02-13T08:52:48.541746Z"
        },
        "trusted": true,
        "id": "5UkVykko5ndb"
      },
      "execution_count": null,
      "outputs": []
    },
    {
      "cell_type": "code",
      "source": [
        "weather=weather.dropna()\n",
        "weather.shape"
      ],
      "metadata": {
        "execution": {
          "iopub.status.busy": "2022-02-13T08:52:48.543840Z",
          "iopub.execute_input": "2022-02-13T08:52:48.544076Z",
          "iopub.status.idle": "2022-02-13T08:52:48.583510Z",
          "shell.execute_reply.started": "2022-02-13T08:52:48.544048Z",
          "shell.execute_reply": "2022-02-13T08:52:48.582560Z"
        },
        "trusted": true,
        "id": "1okSNZ1b5ndb"
      },
      "execution_count": null,
      "outputs": []
    },
    {
      "cell_type": "code",
      "source": [
        "weather.duplicated().sum()"
      ],
      "metadata": {
        "execution": {
          "iopub.status.busy": "2022-02-13T08:52:48.586161Z",
          "iopub.execute_input": "2022-02-13T08:52:48.586621Z",
          "iopub.status.idle": "2022-02-13T08:52:48.672763Z",
          "shell.execute_reply.started": "2022-02-13T08:52:48.586573Z",
          "shell.execute_reply": "2022-02-13T08:52:48.671863Z"
        },
        "trusted": true,
        "id": "UTergexc5ndb"
      },
      "execution_count": null,
      "outputs": []
    },
    {
      "cell_type": "code",
      "source": [
        "weather=weather.drop_duplicates()\n",
        "weather.shape"
      ],
      "metadata": {
        "execution": {
          "iopub.status.busy": "2022-02-13T08:52:48.674165Z",
          "iopub.execute_input": "2022-02-13T08:52:48.674602Z",
          "iopub.status.idle": "2022-02-13T08:52:48.761684Z",
          "shell.execute_reply.started": "2022-02-13T08:52:48.674556Z",
          "shell.execute_reply": "2022-02-13T08:52:48.760790Z"
        },
        "trusted": true,
        "id": "uJI-Q7xm5ndb"
      },
      "execution_count": null,
      "outputs": []
    },
    {
      "cell_type": "code",
      "source": [
        "tmp=weather['Daily Encoded'].value_counts()\n",
        "tmp.describe()"
      ],
      "metadata": {
        "execution": {
          "iopub.status.busy": "2022-02-13T08:52:48.763026Z",
          "iopub.execute_input": "2022-02-13T08:52:48.763424Z",
          "iopub.status.idle": "2022-02-13T08:52:48.778326Z",
          "shell.execute_reply.started": "2022-02-13T08:52:48.763380Z",
          "shell.execute_reply": "2022-02-13T08:52:48.777520Z"
        },
        "trusted": true,
        "id": "zlVXc_9O5ndc"
      },
      "execution_count": null,
      "outputs": []
    },
    {
      "cell_type": "code",
      "source": [
        "weather.columns"
      ],
      "metadata": {
        "execution": {
          "iopub.status.busy": "2022-02-13T08:52:48.779886Z",
          "iopub.execute_input": "2022-02-13T08:52:48.780647Z",
          "iopub.status.idle": "2022-02-13T08:52:48.787463Z",
          "shell.execute_reply.started": "2022-02-13T08:52:48.780596Z",
          "shell.execute_reply": "2022-02-13T08:52:48.786749Z"
        },
        "trusted": true,
        "id": "IB81v-x25ndc"
      },
      "execution_count": null,
      "outputs": []
    },
    {
      "cell_type": "code",
      "source": [
        "y=weather['Daily Encoded'].copy()\n",
        "weather.drop(['Formatted Date','Daily Summary','Daily Encoded'],inplace=True,axis=1)"
      ],
      "metadata": {
        "execution": {
          "iopub.status.busy": "2022-02-13T08:52:48.788745Z",
          "iopub.execute_input": "2022-02-13T08:52:48.789531Z",
          "iopub.status.idle": "2022-02-13T08:52:48.805507Z",
          "shell.execute_reply.started": "2022-02-13T08:52:48.789487Z",
          "shell.execute_reply": "2022-02-13T08:52:48.804486Z"
        },
        "trusted": true,
        "id": "1tS1pvds5ndc"
      },
      "execution_count": null,
      "outputs": []
    },
    {
      "cell_type": "code",
      "source": [
        "from sklearn.compose import ColumnTransformer\n",
        "from sklearn.preprocessing import StandardScaler\n",
        "from sklearn.preprocessing import OneHotEncoder\n",
        "\n",
        "num_attribs = ['Temperature (C)','Apparent Temperature (C)','Humidity','Wind Speed (km/h)','Wind Bearing (degrees)',\n",
        "              'Visibility (km)','Pressure (millibars)']\n",
        "cat_attribs = ['Summary','Precip Type']\n",
        "\n",
        "full_pipeline = ColumnTransformer([\n",
        "        (\"num\", StandardScaler(), num_attribs),\n",
        "        (\"cat\", OneHotEncoder(handle_unknown='ignore'), cat_attribs),\n",
        "    ])\n",
        "\n",
        "weather_prepared = full_pipeline.fit_transform(weather)"
      ],
      "metadata": {
        "execution": {
          "iopub.status.busy": "2022-02-13T08:52:48.806905Z",
          "iopub.execute_input": "2022-02-13T08:52:48.807615Z",
          "iopub.status.idle": "2022-02-13T08:52:48.933326Z",
          "shell.execute_reply.started": "2022-02-13T08:52:48.807573Z",
          "shell.execute_reply": "2022-02-13T08:52:48.932620Z"
        },
        "trusted": true,
        "id": "IvBZqwwN5ndc"
      },
      "execution_count": null,
      "outputs": []
    },
    {
      "cell_type": "code",
      "source": [
        "from sklearn.model_selection import train_test_split\n",
        "\n",
        "X_train,X_val,y_train,y_val = train_test_split(weather_prepared,y, test_size=0.2, random_state=42,stratify=y)"
      ],
      "metadata": {
        "execution": {
          "iopub.status.busy": "2022-02-13T08:52:48.934636Z",
          "iopub.execute_input": "2022-02-13T08:52:48.934844Z",
          "iopub.status.idle": "2022-02-13T08:52:48.997934Z",
          "shell.execute_reply.started": "2022-02-13T08:52:48.934819Z",
          "shell.execute_reply": "2022-02-13T08:52:48.996971Z"
        },
        "trusted": true,
        "id": "lJnkKMcM5ndd"
      },
      "execution_count": null,
      "outputs": []
    },
    {
      "cell_type": "code",
      "source": [
        "X_train.shape,X_val.shape"
      ],
      "metadata": {
        "execution": {
          "iopub.status.busy": "2022-02-13T08:52:48.999281Z",
          "iopub.execute_input": "2022-02-13T08:52:48.999583Z",
          "iopub.status.idle": "2022-02-13T08:52:49.006342Z",
          "shell.execute_reply.started": "2022-02-13T08:52:48.999544Z",
          "shell.execute_reply": "2022-02-13T08:52:49.005407Z"
        },
        "trusted": true,
        "id": "Hdc2t7B65ndd"
      },
      "execution_count": null,
      "outputs": []
    },
    {
      "cell_type": "code",
      "source": [
        "from sklearn.linear_model import SGDClassifier\n",
        "clf = SGDClassifier(class_weight='balanced')\n",
        "clf.fit(X_train,y_train)"
      ],
      "metadata": {
        "execution": {
          "iopub.status.busy": "2022-02-13T08:52:49.007914Z",
          "iopub.execute_input": "2022-02-13T08:52:49.008467Z",
          "iopub.status.idle": "2022-02-13T08:53:07.681741Z",
          "shell.execute_reply.started": "2022-02-13T08:52:49.008409Z",
          "shell.execute_reply": "2022-02-13T08:53:07.680908Z"
        },
        "trusted": true,
        "id": "BaXx9w8L5ndd"
      },
      "execution_count": null,
      "outputs": []
    },
    {
      "cell_type": "code",
      "source": [
        "clf.score(X_train,y_train)"
      ],
      "metadata": {
        "execution": {
          "iopub.status.busy": "2022-02-13T08:53:07.683897Z",
          "iopub.execute_input": "2022-02-13T08:53:07.684113Z",
          "iopub.status.idle": "2022-02-13T08:53:08.013456Z",
          "shell.execute_reply.started": "2022-02-13T08:53:07.684087Z",
          "shell.execute_reply": "2022-02-13T08:53:08.012570Z"
        },
        "trusted": true,
        "id": "XEto9mc75ndd"
      },
      "execution_count": null,
      "outputs": []
    },
    {
      "cell_type": "code",
      "source": [
        "testdata=pd.read_csv('../input/iitkanpur/test.csv')\n",
        "testdata.head()"
      ],
      "metadata": {
        "execution": {
          "iopub.status.busy": "2022-02-13T08:53:08.014507Z",
          "iopub.execute_input": "2022-02-13T08:53:08.014702Z",
          "iopub.status.idle": "2022-02-13T08:53:08.054993Z",
          "shell.execute_reply.started": "2022-02-13T08:53:08.014678Z",
          "shell.execute_reply": "2022-02-13T08:53:08.054460Z"
        },
        "trusted": true,
        "id": "KFsyeN0S5nde"
      },
      "execution_count": null,
      "outputs": []
    },
    {
      "cell_type": "code",
      "source": [
        "testdata['Daily Encoded']=oe.transform(np.array(testdata['Daily Summary']).reshape(-1,1))\n",
        "\n",
        "y_test=testdata['Daily Encoded']\n",
        "\n",
        "testdata.drop(['Formatted Date','Daily Summary','Daily Encoded'],inplace=True,axis=1)\n",
        "X_test=full_pipeline.transform(testdata)"
      ],
      "metadata": {
        "execution": {
          "iopub.status.busy": "2022-02-13T08:53:08.055903Z",
          "iopub.execute_input": "2022-02-13T08:53:08.056469Z",
          "iopub.status.idle": "2022-02-13T08:53:08.074323Z",
          "shell.execute_reply.started": "2022-02-13T08:53:08.056425Z",
          "shell.execute_reply": "2022-02-13T08:53:08.073509Z"
        },
        "trusted": true,
        "id": "ZSMyyWht5nde"
      },
      "execution_count": null,
      "outputs": []
    },
    {
      "cell_type": "code",
      "source": [
        "clf.score(X_test,y_test)"
      ],
      "metadata": {
        "execution": {
          "iopub.status.busy": "2022-02-13T08:53:08.075680Z",
          "iopub.execute_input": "2022-02-13T08:53:08.076141Z",
          "iopub.status.idle": "2022-02-13T08:53:08.088211Z",
          "shell.execute_reply.started": "2022-02-13T08:53:08.076107Z",
          "shell.execute_reply": "2022-02-13T08:53:08.087388Z"
        },
        "trusted": true,
        "id": "69yFTAQY5nde"
      },
      "execution_count": null,
      "outputs": []
    },
    {
      "cell_type": "code",
      "source": [
        "evaluation=pd.read_csv('../input/iitkanpur/evaluate.csv')\n",
        "evaluation.head()"
      ],
      "metadata": {
        "execution": {
          "iopub.status.busy": "2022-02-13T08:53:08.089494Z",
          "iopub.execute_input": "2022-02-13T08:53:08.090259Z",
          "iopub.status.idle": "2022-02-13T08:53:08.117807Z",
          "shell.execute_reply.started": "2022-02-13T08:53:08.090229Z",
          "shell.execute_reply": "2022-02-13T08:53:08.117255Z"
        },
        "trusted": true,
        "id": "LEVHPcGx5nde"
      },
      "execution_count": null,
      "outputs": []
    },
    {
      "cell_type": "code",
      "source": [
        "dates=evaluation['Formatted Date'].copy()\n",
        "evaluation.drop('Formatted Date',axis=1,inplace=True)\n",
        "X_eval=full_pipeline.transform(evaluation)"
      ],
      "metadata": {
        "execution": {
          "iopub.status.busy": "2022-02-13T08:53:08.119161Z",
          "iopub.execute_input": "2022-02-13T08:53:08.119372Z",
          "iopub.status.idle": "2022-02-13T08:53:08.131006Z",
          "shell.execute_reply.started": "2022-02-13T08:53:08.119347Z",
          "shell.execute_reply": "2022-02-13T08:53:08.130396Z"
        },
        "trusted": true,
        "id": "pGSV3GOA5ndf"
      },
      "execution_count": null,
      "outputs": []
    },
    {
      "cell_type": "code",
      "source": [
        "labels=clf.predict(X_eval)"
      ],
      "metadata": {
        "execution": {
          "iopub.status.busy": "2022-02-13T08:53:08.132195Z",
          "iopub.execute_input": "2022-02-13T08:53:08.132738Z",
          "iopub.status.idle": "2022-02-13T08:53:08.139857Z",
          "shell.execute_reply.started": "2022-02-13T08:53:08.132686Z",
          "shell.execute_reply": "2022-02-13T08:53:08.139332Z"
        },
        "trusted": true,
        "id": "-aDlh6Zp5ndf"
      },
      "execution_count": null,
      "outputs": []
    },
    {
      "cell_type": "code",
      "source": [
        "submission={}\n",
        "submission['Formatted Date']=dates\n",
        "submission['Daily Summary']=[i[0] for i in oe.inverse_transform(np.array(labels).reshape(-1,1))]\n",
        "submission=pd.DataFrame(submission)\n",
        "submission.head()"
      ],
      "metadata": {
        "execution": {
          "iopub.status.busy": "2022-02-13T08:53:08.140810Z",
          "iopub.execute_input": "2022-02-13T08:53:08.141111Z",
          "iopub.status.idle": "2022-02-13T08:53:08.154672Z",
          "shell.execute_reply.started": "2022-02-13T08:53:08.141085Z",
          "shell.execute_reply": "2022-02-13T08:53:08.153828Z"
        },
        "trusted": true,
        "id": "2haWgs6I5ndf"
      },
      "execution_count": null,
      "outputs": []
    },
    {
      "cell_type": "code",
      "source": [
        "submission.to_csv('prediction_output.csv',index=False)"
      ],
      "metadata": {
        "execution": {
          "iopub.status.busy": "2022-02-13T08:53:08.156135Z",
          "iopub.execute_input": "2022-02-13T08:53:08.156830Z",
          "iopub.status.idle": "2022-02-13T08:53:08.168834Z",
          "shell.execute_reply.started": "2022-02-13T08:53:08.156797Z",
          "shell.execute_reply": "2022-02-13T08:53:08.168236Z"
        },
        "trusted": true,
        "id": "HIS4fdON5ndf"
      },
      "execution_count": null,
      "outputs": []
    }
  ]
}